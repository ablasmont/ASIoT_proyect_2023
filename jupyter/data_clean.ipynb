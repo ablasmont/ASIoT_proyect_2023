{
 "cells": [
  {
   "attachments": {},
   "cell_type": "markdown",
   "metadata": {},
   "source": [
    "### Variables\n",
    "- **net_manager**: code of the regional network manager\n",
    "- **purchase_area**: code of the area where the energy is purchased\n",
    "- **street**: Name of the street\n",
    "- **zipcode_from and zipcode_to**: 2 columns for the range of zipcodes covered, 4 numbers and 2 letters\n",
    "- **city**: Name of the city\n",
    "- **num_connections**: Number of connections in the range of zipcodes\n",
    "- **delivery_perc**: percentage of the net consumption of electricity or gas. The lower, the more energy was given back to the grid (for example if you have solar panels)\n",
    "- **perc_of_active_connections**: Percentage of active connections in the zipcode range\n",
    "- **type_of_connection**: principal type of connection in the zipcode range. For electricity is # fuses X # ampère. For gas is G4, G6, G10, G16, G25\n",
    "- **type_conn_perc**: percentage of presence of the principal type of connection in the zipcode range\n",
    "- **annual_consume**: Annual consume. Kwh for electricity, m3 for gas\n",
    "- **annual_consume_lowtarif_perc**: Percentage of consume during the low tarif hours. From 10 p.m. to 7 a.m. and during weekends.\n",
    "- **smartmeter_perc**: percentage of smartmeters in the zipcode ranges"
   ]
  },
  {
   "cell_type": "code",
   "execution_count": null,
   "metadata": {},
   "outputs": [],
   "source": [
    "# Importing liabraries\n",
    "import numpy as np\n",
    "import pandas as pd\n",
    "# pd.set_option('display.max_columns', None)\n",
    "# pd.set_option('display.max_rows', None)\n",
    "import matplotlib.pyplot as plt\n",
    "import seaborn as sns\n",
    "import os"
   ]
  }
 ],
 "metadata": {
  "kernelspec": {
   "display_name": "CABIFY",
   "language": "python",
   "name": "python3"
  },
  "language_info": {
   "name": "python",
   "version": "3.9.13"
  },
  "orig_nbformat": 4,
  "vscode": {
   "interpreter": {
    "hash": "89bd45b2030aa70c904df193438639b98f805e1720c4c9382dd3791e82d4123b"
   }
  }
 },
 "nbformat": 4,
 "nbformat_minor": 2
}
